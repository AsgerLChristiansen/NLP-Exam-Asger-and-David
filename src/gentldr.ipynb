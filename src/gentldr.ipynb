{
 "cells": [
  {
   "cell_type": "code",
   "execution_count": null,
   "metadata": {},
   "outputs": [],
   "source": [
    "# Filter dataset_short for rows without a tldr\n",
    "\n",
    "tifu_no_tldr = tifu_short.filter(lambda example: example[\"tldr\"] == \"\")\n",
    "\n",
    "len(tifu_no_tldr) == len(tifu_short) - len(tifu_long) # True. Yay!\n",
    "\n",
    "# Create smaller chunks of the no_tldr dataset\n",
    "\n",
    "small_no_tldr_1 = tifu_no_tldr.select(list(range(10000)))\n",
    "small_no_tldr_2 = tifu_no_tldr.select(list(range(10000, 20000)))\n",
    "small_no_tldr_3 = tifu_no_tldr.select(list(range(20000, len(tifu_no_tldr))))\n",
    "\n",
    "print(len(small_no_tldr_1), len(small_no_tldr_2), len(small_no_tldr_3))\n",
    "# Generate tldr for 10.000 posts\n",
    "from summarizer import TransformerSummarizer, Summarizer\n",
    "bert_model = Summarizer()\n",
    "\n",
    "# Add decimal labels to upvote ratio\n",
    "def gen_tldr(example):\n",
    "    raw_text = example[\"documents\"]\n",
    "    cleaner_text = raw_text.replace(\"\\n\\n\", '.')\n",
    "    clean_text = raw_text.replace('\\n', '.')\n",
    "    bert_summary = ''.join(bert_model(clean_text, num_sentences = 2))\n",
    "    example[\"tldr\"] = bert_summary\n",
    "    return example\n",
    "\n",
    "\n",
    "# Generate the 1st 10.000 tldr's.\n",
    "gen_tldr_1 = small_no_tldr_1.map(gen_tldr)\n",
    "gen_tldr_1.save_to_disk(\"preprocessed/gen_tldr_1\")\n",
    "#Generate the 2nd 10.000 tldr's.\n",
    "\n",
    "gen_tldr_2 = small_no_tldr_2.map(gen_tldr)\n",
    "gen_tldr_2.save_to_disk(\"preprocessed/gen_tldr_2\")"
   ]
  }
 ],
 "metadata": {
  "kernelspec": {
   "display_name": "Python 3.9.2 64-bit",
   "language": "python",
   "name": "python3"
  },
  "language_info": {
   "name": "python",
   "version": "3.9.2"
  },
  "orig_nbformat": 4,
  "vscode": {
   "interpreter": {
    "hash": "31f2aee4e71d21fbe5cf8b01ff0e069b9275f58929596ceb00d14d90e3e16cd6"
   }
  }
 },
 "nbformat": 4,
 "nbformat_minor": 2
}
